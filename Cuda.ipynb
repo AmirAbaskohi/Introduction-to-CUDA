{
  "nbformat": 4,
  "nbformat_minor": 0,
  "metadata": {
    "colab": {
      "name": "Cuda.ipynb",
      "provenance": [],
      "collapsed_sections": []
    },
    "kernelspec": {
      "name": "python3",
      "display_name": "Python 3"
    },
    "language_info": {
      "name": "python"
    },
    "accelerator": "GPU"
  },
  "cells": [
    {
      "cell_type": "code",
      "metadata": {
        "colab": {
          "base_uri": "https://localhost:8080/"
        },
        "id": "Ew0db6MBtK6N",
        "outputId": "259174a9-4023-4aac-a237-4a263e571892"
      },
      "source": [
        "!apt update -qq;\n",
        "!wget https://developer.nvidia.com/compute/cuda/8.0/Prod2/local_installers/cuda-repo-ubuntu1604-8-0-local-ga2_8.0.61-1_amd64-deb;\n",
        "!dpkg -i cuda-repo-ubuntu1604-8-0-local-ga2_8.0.61-1_amd64-deb;\n",
        "!apt-key add /var/cuda-repo-8-0-local-ga2/7fa2af80.pub;\n",
        "!apt-get update -qq;\n",
        "!apt-get install cuda gcc-5 g++-5 -y -qq;\n",
        "!ln -s /usr/bin/gcc-5 /usr/local/cuda/bin/gcc;\n",
        "!ln -s /usr/bin/g++-5 /usr/local/cuda/bin/g++;\n",
        "!apt install cuda-8.0;"
      ],
      "execution_count": 9,
      "outputs": [
        {
          "output_type": "stream",
          "text": [
            "74 packages can be upgraded. Run 'apt list --upgradable' to see them.\n",
            "--2021-08-05 19:38:44--  https://developer.nvidia.com/compute/cuda/8.0/Prod2/local_installers/cuda-repo-ubuntu1604-8-0-local-ga2_8.0.61-1_amd64-deb\n",
            "Resolving developer.nvidia.com (developer.nvidia.com)... 152.199.0.24\n",
            "Connecting to developer.nvidia.com (developer.nvidia.com)|152.199.0.24|:443... connected.\n",
            "HTTP request sent, awaiting response... 301 Moved Permanently\n",
            "Location: https://developer.nvidia.com/compute/cuda/8.0/prod2/local_installers/cuda-repo-ubuntu1604-8-0-local-ga2_8.0.61-1_amd64-deb [following]\n",
            "--2021-08-05 19:38:44--  https://developer.nvidia.com/compute/cuda/8.0/prod2/local_installers/cuda-repo-ubuntu1604-8-0-local-ga2_8.0.61-1_amd64-deb\n",
            "Reusing existing connection to developer.nvidia.com:443.\n",
            "HTTP request sent, awaiting response... 302 Found\n",
            "Location: https://developer.download.nvidia.com/compute/cuda/8.0/secure/Prod2/local_installers/cuda-repo-ubuntu1604-8-0-local-ga2_8.0.61-1_amd64.deb?qTO7rH6F5oju5rRwZKYCVVHJ3TQ9xULJEF8Gr9O2o_WR_PpPHiGKcF804Pw115kgSaWAYQ9lWdOYFdCyHb48cDXt0LktjjZJBuxEqpanBnBl2DYeuO_K5sNRb279U2XiLQu4C7u_Nht_te5YM99SUOMZlK95LTEUrDkFgY_BpByvGH4y-FzRYep2C5cGzS8DzLx8dsbYwX8MRG7jtl6_0Am_Fw [following]\n",
            "--2021-08-05 19:38:45--  https://developer.download.nvidia.com/compute/cuda/8.0/secure/Prod2/local_installers/cuda-repo-ubuntu1604-8-0-local-ga2_8.0.61-1_amd64.deb?qTO7rH6F5oju5rRwZKYCVVHJ3TQ9xULJEF8Gr9O2o_WR_PpPHiGKcF804Pw115kgSaWAYQ9lWdOYFdCyHb48cDXt0LktjjZJBuxEqpanBnBl2DYeuO_K5sNRb279U2XiLQu4C7u_Nht_te5YM99SUOMZlK95LTEUrDkFgY_BpByvGH4y-FzRYep2C5cGzS8DzLx8dsbYwX8MRG7jtl6_0Am_Fw\n",
            "Resolving developer.download.nvidia.com (developer.download.nvidia.com)... 152.195.19.142\n",
            "Connecting to developer.download.nvidia.com (developer.download.nvidia.com)|152.195.19.142|:443... connected.\n",
            "HTTP request sent, awaiting response... 200 OK\n",
            "Length: 1913589814 (1.8G) [application/x-deb]\n",
            "Saving to: ‘cuda-repo-ubuntu1604-8-0-local-ga2_8.0.61-1_amd64-deb’\n",
            "\n",
            "cuda-repo-ubuntu160 100%[===================>]   1.78G  36.2MB/s    in 14s     \n",
            "\n",
            "2021-08-05 19:38:59 (127 MB/s) - ‘cuda-repo-ubuntu1604-8-0-local-ga2_8.0.61-1_amd64-deb’ saved [1913589814/1913589814]\n",
            "\n",
            "(Reading database ... 177966 files and directories currently installed.)\n",
            "Preparing to unpack cuda-repo-ubuntu1604-8-0-local-ga2_8.0.61-1_amd64-deb ...\n",
            "Unpacking cuda-repo-ubuntu1604-8-0-local-ga2 (8.0.61-1) over (8.0.61-1) ...\n",
            "Setting up cuda-repo-ubuntu1604-8-0-local-ga2 (8.0.61-1) ...\n",
            "Warning: The postinst maintainerscript of the package cuda-repo-ubuntu1604-8-0-local-ga2\n",
            "Warning: seems to use apt-key (provided by apt) without depending on gnupg or gnupg2.\n",
            "Warning: This will BREAK in the future and should be fixed by the package maintainer(s).\n",
            "Note: Check first if apt-key functionality is needed at all - it probably isn't!\n",
            "Warning: apt-key should not be used in scripts (called from postinst maintainerscript of the package cuda-repo-ubuntu1604-8-0-local-ga2)\n",
            "OK\n",
            "OK\n",
            "ln: failed to create symbolic link '/usr/local/cuda/bin/gcc': File exists\n",
            "ln: failed to create symbolic link '/usr/local/cuda/bin/g++': File exists\n",
            "Reading package lists... Done\n",
            "Building dependency tree       \n",
            "Reading state information... Done\n",
            "Note, selecting 'cuda-8-0' for regex 'cuda-8.0'\n",
            "Note, selecting 'libcuda-8.0-1' for regex 'cuda-8.0'\n",
            "cuda-8-0 is already the newest version (8.0.61-1).\n",
            "The following package was automatically installed and is no longer required:\n",
            "  nsight-compute-2021.2.0\n",
            "Use 'apt autoremove' to remove it.\n",
            "0 upgraded, 0 newly installed, 0 to remove and 74 not upgraded.\n"
          ],
          "name": "stdout"
        }
      ]
    },
    {
      "cell_type": "code",
      "metadata": {
        "colab": {
          "base_uri": "https://localhost:8080/"
        },
        "id": "raZP-DVg1dLr",
        "outputId": "105926d1-e414-4263-bf9d-afac2982cdf2"
      },
      "source": [
        "!pip install git+git://github.com/andreinechaev/nvcc4jupyter.git"
      ],
      "execution_count": 14,
      "outputs": [
        {
          "output_type": "stream",
          "text": [
            "Collecting git+git://github.com/andreinechaev/nvcc4jupyter.git\n",
            "  Cloning git://github.com/andreinechaev/nvcc4jupyter.git to /tmp/pip-req-build-nrlprahd\n",
            "  Running command git clone -q git://github.com/andreinechaev/nvcc4jupyter.git /tmp/pip-req-build-nrlprahd\n"
          ],
          "name": "stdout"
        }
      ]
    },
    {
      "cell_type": "code",
      "metadata": {
        "colab": {
          "base_uri": "https://localhost:8080/"
        },
        "id": "hIYCR0bO18yn",
        "outputId": "33cd1bc3-0a38-4259-f7db-c5f160620252"
      },
      "source": [
        "%load_ext nvcc_plugin"
      ],
      "execution_count": 16,
      "outputs": [
        {
          "output_type": "stream",
          "text": [
            "The nvcc_plugin extension is already loaded. To reload it, use:\n",
            "  %reload_ext nvcc_plugin\n"
          ],
          "name": "stdout"
        }
      ]
    },
    {
      "cell_type": "markdown",
      "metadata": {
        "id": "E3mHjGNPzRyf"
      },
      "source": [
        "# Test CUDA"
      ]
    },
    {
      "cell_type": "code",
      "metadata": {
        "colab": {
          "base_uri": "https://localhost:8080/"
        },
        "id": "qYNle52KtH8-",
        "outputId": "3720c3bf-30b0-4ee1-b07f-ca29422b3688"
      },
      "source": [
        "%%cu\n",
        "#include <iostream>\n",
        "int main() {\n",
        "    std::cout << \"Hello world\\n\";\n",
        "    return 0;\n",
        "}"
      ],
      "execution_count": 24,
      "outputs": [
        {
          "output_type": "stream",
          "text": [
            "Hello world\n",
            "\n"
          ],
          "name": "stdout"
        }
      ]
    },
    {
      "cell_type": "markdown",
      "metadata": {
        "id": "mJKVf4AW32Q3"
      },
      "source": [
        "# Array Sum Problem"
      ]
    },
    {
      "cell_type": "code",
      "metadata": {
        "id": "Ghq6v-6UtGzb",
        "colab": {
          "base_uri": "https://localhost:8080/"
        },
        "outputId": "3245ebf1-e895-4b25-9614-e8b1a84798e5"
      },
      "source": [
        "%%cu\n",
        "#include <iostream>\n",
        "#include <math.h>\n",
        "\n",
        "// function to add the elements of two arrays\n",
        "__global__ void add(int n, float *x, float *y)\n",
        "{\n",
        "  for (int i = 0; i < n; i++)\n",
        "      y[i] = x[i] + y[i];\n",
        "}\n",
        "\n",
        "int main(void)\n",
        "{\n",
        " \n",
        "  int N = 1<<20;\n",
        "\n",
        " float *x, *y;\n",
        "\n",
        "\n",
        " cudaMallocManaged(&x, N*sizeof(float));\n",
        " cudaMallocManaged(&y, N*sizeof(float));\n",
        "\n",
        "\n",
        "  // initialize x and y arrays on the host\n",
        "  for (int i = 0; i < N; i++) {\n",
        "    x[i] = 1.0f;\n",
        "    y[i] = 2.0f;\n",
        "  }\n",
        " \n",
        "  add<<<1,1>>>(N, x, y); \n",
        "\n",
        " cudaDeviceSynchronize();\n",
        "\n",
        "  // Check for errors (all values should be 3.0f)\n",
        "  float maxError = 0.0f;\n",
        "  for (int i = 0; i < N; i++)\n",
        "    maxError = fmax(maxError, fabs(y[i]-3.0f));\n",
        "  std::cout << \"Max error: \" << maxError << std::endl;\n",
        " \n",
        "\n",
        "  // Free memory\n",
        "  delete [] x;\n",
        "  delete [] y;\n",
        " \n",
        "\n",
        "  return 0;\n",
        "}"
      ],
      "execution_count": 33,
      "outputs": [
        {
          "output_type": "stream",
          "text": [
            "Max error: 0\n",
            "src/tcmalloc.cc:283] Attempt to free invalid pointer 0x7f7aa2000000 \n",
            "\n"
          ],
          "name": "stdout"
        }
      ]
    },
    {
      "cell_type": "code",
      "metadata": {
        "id": "QaNOtGyG51JP"
      },
      "source": [
        "!/usr/local/cuda/bin/nvcc -arch=sm_35 -rdc=true 1.cu -o 1 -lcudadevrt"
      ],
      "execution_count": 39,
      "outputs": []
    },
    {
      "cell_type": "code",
      "metadata": {
        "colab": {
          "base_uri": "https://localhost:8080/"
        },
        "id": "OpKOx-5H541W",
        "outputId": "7e47542c-01ca-4bad-a21f-753b0ac86438"
      },
      "source": [
        "!nvprof ./1"
      ],
      "execution_count": 40,
      "outputs": [
        {
          "output_type": "stream",
          "text": [
            "======== Warning: This version of nvprof doesn't support the underlying device, GPU profiling skipped.\n",
            "Max error: 0\n",
            "src/tcmalloc.cc:283] Attempt to free invalid pointer 0x7ff63a000000 \n",
            "======== Warning: No CUDA application was profiled, exiting\n",
            "======== Error: Application received signal 134\n"
          ],
          "name": "stdout"
        }
      ]
    },
    {
      "cell_type": "markdown",
      "metadata": {
        "id": "Qa3UCicr9t_o"
      },
      "source": [
        "To make out program realy fast, like not just using the GPU, we want it to realy use all the architecture of a GPU and in order to do that we need to use some of those GPU constructs that `Nvidia` has defined like threads, blocks, and grids.\n",
        "\n",
        "Let's check that:\n",
        "\n",
        "Neural Netoworks use matrix operations all the time and we nknow that properly.\n",
        "\n",
        "Now to increase our speed we can use GPU. Although CPU supports multithreading, but it is not supporting a million thread. That's what GPU are made for.\n",
        "\n",
        "Let's look at GPU. On the GPU, each single thread lives inside of what's called a block. Each block has multiple of 32 threads in itself. Also a set of blocks makes grid. That means you have `a grid of blocks of threads`.\n",
        "\n",
        "\n",
        "The reason for limit to the number of threads per grid is because of memories. Global memory and shared memories in each block.\n",
        "\n",
        "What we want to do is we want to say we need 1M threads for our array sum. Because there is a memory limit for each of these blocks then we know that we want the maximum amount of threads per block and we want the max amount of blocks that come out to 1M threads. How we do that? We can define this as a simple function:\n",
        "\n",
        "```\n",
        "numBlock = (N + blockSize - 1)/blockSize\n",
        "```\n",
        "\n",
        "Then we can run our function in the way that we want."
      ]
    },
    {
      "cell_type": "code",
      "metadata": {
        "colab": {
          "base_uri": "https://localhost:8080/"
        },
        "id": "oY0keuI0EuFF",
        "outputId": "5ae8584c-f685-4a30-c8c2-d289261754c1"
      },
      "source": [
        "%%cu\n",
        "#include <iostream>\n",
        "#include <math.h>\n",
        "\n",
        "// function to add the elements of two arrays\n",
        "__global__ void add(int n, float *x, float *y)\n",
        "{\n",
        "  int index = threadIdx.x;\n",
        "  int stride = blockDim.x;\n",
        "\n",
        "  for (int i = index; i < n; i += stride)\n",
        "      y[i] = x[i] + y[i];\n",
        "}\n",
        "\n",
        "int main(void)\n",
        "{\n",
        " \n",
        "  int N = 1<<20;\n",
        "\n",
        " float *x, *y;\n",
        "\n",
        "\n",
        " cudaMallocManaged(&x, N*sizeof(float));\n",
        " cudaMallocManaged(&y, N*sizeof(float));\n",
        "\n",
        "\n",
        "  // initialize x and y arrays on the host\n",
        "  for (int i = 0; i < N; i++) {\n",
        "    x[i] = 1.0f;\n",
        "    y[i] = 2.0f;\n",
        "  }\n",
        " \n",
        "  add<<<1,256>>>(N, x, y); \n",
        "\n",
        " cudaDeviceSynchronize();\n",
        "\n",
        "  // Check for errors (all values should be 3.0f)\n",
        "  float maxError = 0.0f;\n",
        "  for (int i = 0; i < N; i++)\n",
        "    maxError = fmax(maxError, fabs(y[i]-3.0f));\n",
        "  std::cout << \"Max error: \" << maxError << std::endl;\n",
        " \n",
        "\n",
        "  // Free memory\n",
        "  delete [] x;\n",
        "  delete [] y;\n",
        " \n",
        "\n",
        "  return 0;\n",
        "}"
      ],
      "execution_count": 43,
      "outputs": [
        {
          "output_type": "stream",
          "text": [
            "Max error: 0\n",
            "src/tcmalloc.cc:283] Attempt to free invalid pointer 0x7efc5e000000 \n",
            "\n"
          ],
          "name": "stdout"
        }
      ]
    },
    {
      "cell_type": "code",
      "metadata": {
        "id": "9zoEvqUKFqRE"
      },
      "source": [
        "!/usr/local/cuda/bin/nvcc -arch=sm_35 -rdc=true 2.cu -o 2 -lcudadevrt"
      ],
      "execution_count": 44,
      "outputs": []
    },
    {
      "cell_type": "code",
      "metadata": {
        "colab": {
          "base_uri": "https://localhost:8080/"
        },
        "id": "MUrICgxUFtej",
        "outputId": "f0be2d94-0b93-4984-d8ab-d939239a1e96"
      },
      "source": [
        "!nvprof ./2"
      ],
      "execution_count": 45,
      "outputs": [
        {
          "output_type": "stream",
          "text": [
            "======== Warning: This version of nvprof doesn't support the underlying device, GPU profiling skipped.\n",
            "Max error: 0\n",
            "src/tcmalloc.cc:283] Attempt to free invalid pointer 0x7fdbb6000000 \n",
            "======== Warning: No CUDA application was profiled, exiting\n",
            "======== Error: Application received signal 134\n"
          ],
          "name": "stdout"
        }
      ]
    },
    {
      "cell_type": "code",
      "metadata": {
        "id": "-dETCN2wFuhg"
      },
      "source": [
        ""
      ],
      "execution_count": null,
      "outputs": []
    }
  ]
}